{
 "cells": [
  {
   "cell_type": "code",
   "execution_count": null,
   "id": "a7762ad2",
   "metadata": {},
   "outputs": [],
   "source": [
    "from qtils.utils import doi2bib, update_references, update_bibfile\n",
    "import os, shutil"
   ]
  },
  {
   "attachments": {},
   "cell_type": "markdown",
   "id": "6befece1",
   "metadata": {},
   "source": [
    "## first, lowlevel function to convert a doi to a `BiBTeX` entry"
   ]
  },
  {
   "cell_type": "code",
   "execution_count": null,
   "id": "df15f2c1",
   "metadata": {},
   "outputs": [],
   "source": [
    "doi = '10.1016/j.jhydrol.2014.04.061'"
   ]
  },
  {
   "cell_type": "code",
   "execution_count": null,
   "id": "fdedf3ab",
   "metadata": {},
   "outputs": [],
   "source": [
    "bib = doi2bib(doi)\n",
    "[print(i) for i in bib];"
   ]
  },
  {
   "attachments": {},
   "cell_type": "markdown",
   "id": "3cc908fd",
   "metadata": {},
   "source": [
    "### next, we can run a list of dois and create or update a `.bib` file with the results. Note the returned dictionary that provides a mapping from `doi` to key in the bib file that can be used for referencing"
   ]
  },
  {
   "cell_type": "code",
   "execution_count": null,
   "id": "4f9876eb",
   "metadata": {},
   "outputs": [],
   "source": [
    "# let's make sure there's not already a bib file in place\n",
    "if os.path.exists ('./tmp.bib'):\n",
    "    os.remove('./tmp.bib')"
   ]
  },
  {
   "cell_type": "code",
   "execution_count": null,
   "id": "b8d2a825",
   "metadata": {},
   "outputs": [],
   "source": [
    "dois = ['junkus This Should Fail!',\n",
    "        'https://doi.org/10.1038/nclimate2425',\n",
    "        '10.1080/14650040590946584']"
   ]
  },
  {
   "cell_type": "code",
   "execution_count": null,
   "id": "347f46ba",
   "metadata": {},
   "outputs": [],
   "source": [
    "bib_dict = update_bibfile('tmp.bib',dois)\n",
    "bib_dict"
   ]
  },
  {
   "attachments": {},
   "cell_type": "markdown",
   "id": "96ec5ac2",
   "metadata": {},
   "source": [
    "### finally, one can write a Quarto markdown (`qmd`) file using `_doi:<valid_doi_here>` in place of references and run `update_references()` to replace doi callouts with `BiBTeX` references and also to update the `bib` file using the functions above"
   ]
  },
  {
   "cell_type": "code",
   "execution_count": null,
   "id": "12f1796f",
   "metadata": {},
   "outputs": [],
   "source": [
    "# we can copy over a file to look at and work on\n",
    "shutil.copy2('../tests/data/example.dois.qmd', './test.qmd')\n",
    "shutil.copy2('../tests/data/candy.png', './candy.png');\n"
   ]
  },
  {
   "cell_type": "code",
   "execution_count": null,
   "id": "7688e2ae",
   "metadata": {},
   "outputs": [],
   "source": [
    "update_references('./test.qmd','references.bib',inplace=False)"
   ]
  },
  {
   "cell_type": "code",
   "execution_count": null,
   "id": "07bcf152",
   "metadata": {},
   "outputs": [],
   "source": []
  }
 ],
 "metadata": {
  "kernelspec": {
   "display_name": "Python 3 (ipykernel)",
   "language": "python",
   "name": "python3"
  },
  "language_info": {
   "codemirror_mode": {
    "name": "ipython",
    "version": 3
   },
   "file_extension": ".py",
   "mimetype": "text/x-python",
   "name": "python",
   "nbconvert_exporter": "python",
   "pygments_lexer": "ipython3",
   "version": "3.11.0"
  }
 },
 "nbformat": 4,
 "nbformat_minor": 5
}
